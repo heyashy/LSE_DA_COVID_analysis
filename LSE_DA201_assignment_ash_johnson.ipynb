{
 "cells": [
  {
   "cell_type": "markdown",
   "metadata": {},
   "source": [
    "### LSE Data Analytics Online Career Accelerator\n",
    "\n",
    "# DA201: Data Analytics using Python\n",
    "\n",
    "- [My Github Repo](https://github.com/heyashy/LSE_DA_COVID_analysis)\n",
    "- Screenshot demo\n",
    "\n",
    "!['My Github screenshot](https://github.com/heyashy/LSE_DA_COVID_analysis/blob/main/screenshot.jpg?raw=true)"
   ]
  },
  {
   "cell_type": "markdown",
   "metadata": {},
   "source": [
    "---\n",
    "### 1.2) The role of GitHub\n",
    "<p>Git was developed by Linus Torvald, the creator of Linux, in 2005 and is a software that enables tracking for changes to a set of files and is a critial part of the development cycle of any application developed collaboratively by an orginsiation. Git's is essentialy a version control softrware that allows the tracking, commiting and merging of changes whilst maintaing speed, efficieny and transparency in the development cycle.</p>\n",
    "\n",
    "<p>Git is a defacto standard and there are many options to allow it's implimentation</p>\n",
    "\n",
    "- GitHub\n",
    "- GitLab\n",
    "- BitBucket\n",
    "- Google Cloud Source Repositories\n",
    "- Phabricator\n",
    "- RhodeCode\n",
    "\n",
    "are just some of the options that developers can use to impliment Git in thier projects. More information on Git can be found here on the Wikipedia page by [clicking here](https://en.wikipedia.org/wiki/Git)."
   ]
  },
  {
   "cell_type": "markdown",
   "metadata": {},
   "source": [
    "---\n",
    "### 2.1) Assignment 2: Import and explore the data"
   ]
  },
  {
   "cell_type": "code",
   "execution_count": 121,
   "metadata": {},
   "outputs": [
    {
     "data": {
      "text/plain": [
       "<Figure size 921.6x691.2 with 0 Axes>"
      ]
     },
     "metadata": {},
     "output_type": "display_data"
    }
   ],
   "source": [
    "import pandas as pd\n",
    "import matplotlib.pyplot as plt\n",
    "import matplotlib.dates as mdates\n",
    "import seaborn as sns\n",
    "\n",
    "# Imporve the DPI of the charts\n",
    "plt.rcParams['figure.dpi'] = 144\n",
    "plt.rcParams['savefig.dpi'] = 300\n",
    "sns.set(rc={\"figure.dpi\":144, 'savefig.dpi':300})\n",
    "sns.set_context('notebook')\n",
    "sns.set_style(\"ticks\")\n",
    "sns.color_palette(\"Set2\")\n",
    "sns.despine()\n",
    "\n",
    "cov = pd.read_csv('./covid_19_uk_cases.csv')\n",
    "vac = pd.read_csv('./covid_19_uk_vaccinated.csv')"
   ]
  },
  {
   "cell_type": "code",
   "execution_count": 39,
   "metadata": {},
   "outputs": [
    {
     "name": "stdout",
     "output_type": "stream",
     "text": [
      "Shape: (7584, 12) \n",
      "\n",
      "Province/State               object\n",
      "Country/Region               object\n",
      "Lat                         float64\n",
      "Long                        float64\n",
      "ISO 3166-1 Alpha 3-Codes     object\n",
      "Sub-region Name              object\n",
      "Intermediate Region Code      int64\n",
      "Date                         object\n",
      "Deaths                      float64\n",
      "Cases                       float64\n",
      "Recovered                   float64\n",
      "Hospitalised                float64\n",
      "dtype: object\n"
     ]
    }
   ],
   "source": [
    "print('Shape: {} \\n'.format(cov.shape))\n",
    "print(cov.dtypes)"
   ]
  },
  {
   "cell_type": "code",
   "execution_count": 40,
   "metadata": {},
   "outputs": [
    {
     "name": "stdout",
     "output_type": "stream",
     "text": [
      "Shape: (7584, 11) \n",
      "\n",
      "Province/State               object\n",
      "Country/Region               object\n",
      "Lat                         float64\n",
      "Long                        float64\n",
      "ISO 3166-1 Alpha 3-Codes     object\n",
      "Sub-region Name              object\n",
      "Intermediate Region Code      int64\n",
      "Date                         object\n",
      "Vaccinated                    int64\n",
      "First Dose                    int64\n",
      "Second Dose                   int64\n",
      "dtype: object\n"
     ]
    }
   ],
   "source": [
    "print('Shape: {} \\n'.format(vac.shape))\n",
    "print(vac.dtypes)"
   ]
  },
  {
   "cell_type": "code",
   "execution_count": 41,
   "metadata": {},
   "outputs": [
    {
     "name": "stdout",
     "output_type": "stream",
     "text": [
      "  Province/State  Country/Region      Lat     Long ISO 3166-1 Alpha 3-Codes  \\\n",
      "0       Anguilla  United Kingdom  18.2206 -63.0686                      AIA   \n",
      "\n",
      "                   Sub-region Name  Intermediate Region Code        Date  \\\n",
      "0  Latin America and the Caribbean                        29  2020-01-22   \n",
      "\n",
      "   Vaccinated  First Dose  Second Dose  \n",
      "0           0           0            0  \n",
      "Province/State                      object\n",
      "Country/Region                      object\n",
      "Lat                                float64\n",
      "Long                               float64\n",
      "ISO 3166-1 Alpha 3-Codes            object\n",
      "Sub-region Name                     object\n",
      "Intermediate Region Code             int64\n",
      "Date                        datetime64[ns]\n",
      "Vaccinated                           int64\n",
      "First Dose                           int64\n",
      "Second Dose                          int64\n",
      "dtype: object\n",
      "  Province/State  Country/Region      Lat     Long ISO 3166-1 Alpha 3-Codes  \\\n",
      "0       Anguilla  United Kingdom  18.2206 -63.0686                      AIA   \n",
      "\n",
      "                   Sub-region Name  Intermediate Region Code       Date  \\\n",
      "0  Latin America and the Caribbean                        29 2020-01-22   \n",
      "\n",
      "   Vaccinated  First Dose  Second Dose  \n",
      "0           0           0            0  \n"
     ]
    }
   ],
   "source": [
    "# Date is an object and should be a datetime object\n",
    "# Start by checking the head to see what format the data is in \n",
    "print(vac.head(1))\n",
    "# Correct the format\n",
    "vac[\"Date\"] = pd.to_datetime(vac[\"Date\"])\n",
    "#Check\n",
    "print(vac.dtypes)\n",
    "print(vac.head(1))"
   ]
  },
  {
   "cell_type": "code",
   "execution_count": 42,
   "metadata": {},
   "outputs": [
    {
     "name": "stdout",
     "output_type": "stream",
     "text": [
      "  Province/State  Country/Region      Lat     Long ISO 3166-1 Alpha 3-Codes  \\\n",
      "0       Anguilla  United Kingdom  18.2206 -63.0686                      AIA   \n",
      "1       Anguilla  United Kingdom  18.2206 -63.0686                      AIA   \n",
      "2       Anguilla  United Kingdom  18.2206 -63.0686                      AIA   \n",
      "3       Anguilla  United Kingdom  18.2206 -63.0686                      AIA   \n",
      "4       Anguilla  United Kingdom  18.2206 -63.0686                      AIA   \n",
      "\n",
      "                   Sub-region Name  Intermediate Region Code        Date  \\\n",
      "0  Latin America and the Caribbean                        29  2020-01-22   \n",
      "1  Latin America and the Caribbean                        29  2020-01-23   \n",
      "2  Latin America and the Caribbean                        29  2020-01-24   \n",
      "3  Latin America and the Caribbean                        29  2020-01-25   \n",
      "4  Latin America and the Caribbean                        29  2020-01-26   \n",
      "\n",
      "   Deaths  Cases  Recovered  Hospitalised  \n",
      "0     0.0    0.0        0.0           0.0  \n",
      "1     0.0    0.0        0.0           0.0  \n",
      "2     0.0    0.0        0.0           0.0  \n",
      "3     0.0    0.0        0.0           0.0  \n",
      "4     0.0    0.0        0.0           0.0  \n",
      "     Province/State  Country/Region      Lat   Long ISO 3166-1 Alpha 3-Codes  \\\n",
      "7579         Others  United Kingdom  55.3781 -3.436                      GBR   \n",
      "7580         Others  United Kingdom  55.3781 -3.436                      GBR   \n",
      "7581         Others  United Kingdom  55.3781 -3.436                      GBR   \n",
      "7582         Others  United Kingdom  55.3781 -3.436                      GBR   \n",
      "7583         Others  United Kingdom  55.3781 -3.436                      GBR   \n",
      "\n",
      "      Sub-region Name  Intermediate Region Code        Date    Deaths  \\\n",
      "7579  Northern Europe                         0  2021-10-10  137735.0   \n",
      "7580  Northern Europe                         0  2021-10-11  137763.0   \n",
      "7581  Northern Europe                         0  2021-10-12  137944.0   \n",
      "7582  Northern Europe                         0  2021-10-13  138080.0   \n",
      "7583  Northern Europe                         0  2021-10-14  138237.0   \n",
      "\n",
      "          Cases  Recovered  Hospitalised  \n",
      "7579  8154306.0        0.0         378.0  \n",
      "7580  8193769.0        0.0         386.0  \n",
      "7581  8231437.0        0.0         386.0  \n",
      "7582  8272883.0        0.0           0.0  \n",
      "7583  8317439.0        0.0           0.0  \n",
      "  Province/State  Country/Region      Lat     Long ISO 3166-1 Alpha 3-Codes  \\\n",
      "0       Anguilla  United Kingdom  18.2206 -63.0686                      AIA   \n",
      "1       Anguilla  United Kingdom  18.2206 -63.0686                      AIA   \n",
      "2       Anguilla  United Kingdom  18.2206 -63.0686                      AIA   \n",
      "3       Anguilla  United Kingdom  18.2206 -63.0686                      AIA   \n",
      "4       Anguilla  United Kingdom  18.2206 -63.0686                      AIA   \n",
      "\n",
      "                   Sub-region Name  Intermediate Region Code       Date  \\\n",
      "0  Latin America and the Caribbean                        29 2020-01-22   \n",
      "1  Latin America and the Caribbean                        29 2020-01-23   \n",
      "2  Latin America and the Caribbean                        29 2020-01-24   \n",
      "3  Latin America and the Caribbean                        29 2020-01-25   \n",
      "4  Latin America and the Caribbean                        29 2020-01-26   \n",
      "\n",
      "   Vaccinated  First Dose  Second Dose  \n",
      "0           0           0            0  \n",
      "1           0           0            0  \n",
      "2           0           0            0  \n",
      "3           0           0            0  \n",
      "4           0           0            0  \n",
      "     Province/State  Country/Region      Lat   Long ISO 3166-1 Alpha 3-Codes  \\\n",
      "7579         Others  United Kingdom  55.3781 -3.436                      GBR   \n",
      "7580         Others  United Kingdom  55.3781 -3.436                      GBR   \n",
      "7581         Others  United Kingdom  55.3781 -3.436                      GBR   \n",
      "7582         Others  United Kingdom  55.3781 -3.436                      GBR   \n",
      "7583         Others  United Kingdom  55.3781 -3.436                      GBR   \n",
      "\n",
      "      Sub-region Name  Intermediate Region Code       Date  Vaccinated  \\\n",
      "7579  Northern Europe                         0 2021-10-10        1070   \n",
      "7580  Northern Europe                         0 2021-10-11        1300   \n",
      "7581  Northern Europe                         0 2021-10-12        1482   \n",
      "7582  Northern Europe                         0 2021-10-13           0   \n",
      "7583  Northern Europe                         0 2021-10-14           0   \n",
      "\n",
      "      First Dose  Second Dose  \n",
      "7579        1216         1070  \n",
      "7580        1604         1300  \n",
      "7581        2027         1482  \n",
      "7582           0            0  \n",
      "7583           0            0  \n"
     ]
    }
   ],
   "source": [
    "print(cov.head(5))\n",
    "print(cov.tail(5))\n",
    "print(vac.head(5))\n",
    "print(vac.tail(5))"
   ]
  },
  {
   "cell_type": "markdown",
   "metadata": {},
   "source": [
    "### Check for Nan values"
   ]
  },
  {
   "cell_type": "code",
   "execution_count": 43,
   "metadata": {},
   "outputs": [
    {
     "data": {
      "text/plain": [
       "Province/State              0\n",
       "Country/Region              0\n",
       "Lat                         0\n",
       "Long                        0\n",
       "ISO 3166-1 Alpha 3-Codes    0\n",
       "Sub-region Name             0\n",
       "Intermediate Region Code    0\n",
       "Date                        0\n",
       "Deaths                      2\n",
       "Cases                       2\n",
       "Recovered                   2\n",
       "Hospitalised                2\n",
       "dtype: int64"
      ]
     },
     "execution_count": 43,
     "metadata": {},
     "output_type": "execute_result"
    }
   ],
   "source": [
    "cov.isna().sum()"
   ]
  },
  {
   "cell_type": "code",
   "execution_count": 44,
   "metadata": {},
   "outputs": [
    {
     "name": "stdout",
     "output_type": "stream",
     "text": [
      "Province/State              0\n",
      "Country/Region              0\n",
      "Lat                         0\n",
      "Long                        0\n",
      "ISO 3166-1 Alpha 3-Codes    0\n",
      "Sub-region Name             0\n",
      "Intermediate Region Code    0\n",
      "Date                        0\n",
      "Deaths                      0\n",
      "Cases                       0\n",
      "Recovered                   0\n",
      "Hospitalised                2\n",
      "dtype: int64\n"
     ]
    }
   ],
   "source": [
    "# Fix this\n",
    "# We could make them all zero\n",
    "# cov[cov.isna().any(axis=1)] = 0\n",
    "# However we are going to fill them with mean values\n",
    "cov['Deaths'].fillna(cov['Deaths'].mean(), inplace=True)\n",
    "cov['Cases'].fillna(cov['Cases'].mean(), inplace=True)\n",
    "cov['Recovered'].fillna(cov['Recovered'].mean(), inplace=True)\n",
    "\n",
    "print(cov.isna().sum())"
   ]
  },
  {
   "cell_type": "code",
   "execution_count": 45,
   "metadata": {},
   "outputs": [
    {
     "data": {
      "text/plain": [
       "Province/State              0\n",
       "Country/Region              0\n",
       "Lat                         0\n",
       "Long                        0\n",
       "ISO 3166-1 Alpha 3-Codes    0\n",
       "Sub-region Name             0\n",
       "Intermediate Region Code    0\n",
       "Date                        0\n",
       "Vaccinated                  0\n",
       "First Dose                  0\n",
       "Second Dose                 0\n",
       "dtype: int64"
      ]
     },
     "execution_count": 45,
     "metadata": {},
     "output_type": "execute_result"
    }
   ],
   "source": [
    "vac.isna().sum()"
   ]
  },
  {
   "cell_type": "code",
   "execution_count": 46,
   "metadata": {},
   "outputs": [],
   "source": [
    "gcov_df = cov[cov['Province/State'] == 'Gibraltar']"
   ]
  },
  {
   "cell_type": "code",
   "execution_count": 47,
   "metadata": {},
   "outputs": [
    {
     "data": {
      "text/plain": [
       "Province/State               object\n",
       "Country/Region               object\n",
       "Lat                         float64\n",
       "Long                        float64\n",
       "ISO 3166-1 Alpha 3-Codes     object\n",
       "Sub-region Name              object\n",
       "Intermediate Region Code      int64\n",
       "Date                         object\n",
       "Deaths                      float64\n",
       "Cases                       float64\n",
       "Recovered                   float64\n",
       "Hospitalised                float64\n",
       "dtype: object"
      ]
     },
     "execution_count": 47,
     "metadata": {},
     "output_type": "execute_result"
    }
   ],
   "source": [
    "pd.set_option(\"display.max_rows\", None)\n",
    "# gcov_df \n",
    "gcov_df.dtypes"
   ]
  },
  {
   "cell_type": "code",
   "execution_count": 48,
   "metadata": {},
   "outputs": [],
   "source": [
    "gcov_df = gcov_df[['Date', 'Deaths', 'Cases', 'Recovered', 'Hospitalised']]"
   ]
  },
  {
   "cell_type": "code",
   "execution_count": 122,
   "metadata": {},
   "outputs": [
    {
     "data": {
      "text/html": [
       "<div>\n",
       "<style scoped>\n",
       "    .dataframe tbody tr th:only-of-type {\n",
       "        vertical-align: middle;\n",
       "    }\n",
       "\n",
       "    .dataframe tbody tr th {\n",
       "        vertical-align: top;\n",
       "    }\n",
       "\n",
       "    .dataframe thead th {\n",
       "        text-align: right;\n",
       "    }\n",
       "</style>\n",
       "<table border=\"1\" class=\"dataframe\">\n",
       "  <thead>\n",
       "    <tr style=\"text-align: right;\">\n",
       "      <th></th>\n",
       "      <th>Date</th>\n",
       "      <th>Deaths</th>\n",
       "      <th>Cases</th>\n",
       "      <th>Recovered</th>\n",
       "      <th>Hospitalised</th>\n",
       "    </tr>\n",
       "  </thead>\n",
       "  <tbody>\n",
       "    <tr>\n",
       "      <th>4419</th>\n",
       "      <td>2021-10-10</td>\n",
       "      <td>97.0</td>\n",
       "      <td>5626.0</td>\n",
       "      <td>0.0</td>\n",
       "      <td>858.0</td>\n",
       "    </tr>\n",
       "    <tr>\n",
       "      <th>4420</th>\n",
       "      <td>2021-10-11</td>\n",
       "      <td>97.0</td>\n",
       "      <td>5655.0</td>\n",
       "      <td>0.0</td>\n",
       "      <td>876.0</td>\n",
       "    </tr>\n",
       "    <tr>\n",
       "      <th>4421</th>\n",
       "      <td>2021-10-12</td>\n",
       "      <td>97.0</td>\n",
       "      <td>5682.0</td>\n",
       "      <td>0.0</td>\n",
       "      <td>876.0</td>\n",
       "    </tr>\n",
       "    <tr>\n",
       "      <th>4422</th>\n",
       "      <td>2021-10-13</td>\n",
       "      <td>97.0</td>\n",
       "      <td>5707.0</td>\n",
       "      <td>0.0</td>\n",
       "      <td>0.0</td>\n",
       "    </tr>\n",
       "    <tr>\n",
       "      <th>4423</th>\n",
       "      <td>2021-10-14</td>\n",
       "      <td>97.0</td>\n",
       "      <td>5727.0</td>\n",
       "      <td>0.0</td>\n",
       "      <td>0.0</td>\n",
       "    </tr>\n",
       "  </tbody>\n",
       "</table>\n",
       "</div>"
      ],
      "text/plain": [
       "            Date  Deaths   Cases  Recovered  Hospitalised\n",
       "4419  2021-10-10    97.0  5626.0        0.0         858.0\n",
       "4420  2021-10-11    97.0  5655.0        0.0         876.0\n",
       "4421  2021-10-12    97.0  5682.0        0.0         876.0\n",
       "4422  2021-10-13    97.0  5707.0        0.0           0.0\n",
       "4423  2021-10-14    97.0  5727.0        0.0           0.0"
      ]
     },
     "execution_count": 122,
     "metadata": {},
     "output_type": "execute_result"
    }
   ],
   "source": [
    "gcov_df.tail()"
   ]
  },
  {
   "cell_type": "code",
   "execution_count": 50,
   "metadata": {},
   "outputs": [
    {
     "data": {
      "text/html": [
       "<div>\n",
       "<style scoped>\n",
       "    .dataframe tbody tr th:only-of-type {\n",
       "        vertical-align: middle;\n",
       "    }\n",
       "\n",
       "    .dataframe tbody tr th {\n",
       "        vertical-align: top;\n",
       "    }\n",
       "\n",
       "    .dataframe thead th {\n",
       "        text-align: right;\n",
       "    }\n",
       "</style>\n",
       "<table border=\"1\" class=\"dataframe\">\n",
       "  <thead>\n",
       "    <tr style=\"text-align: right;\">\n",
       "      <th></th>\n",
       "      <th>Deaths</th>\n",
       "      <th>Cases</th>\n",
       "      <th>Recovered</th>\n",
       "      <th>Hospitalised</th>\n",
       "    </tr>\n",
       "  </thead>\n",
       "  <tbody>\n",
       "    <tr>\n",
       "      <th>count</th>\n",
       "      <td>632.0</td>\n",
       "      <td>632.0</td>\n",
       "      <td>632.0</td>\n",
       "      <td>632.0</td>\n",
       "    </tr>\n",
       "    <tr>\n",
       "      <th>mean</th>\n",
       "      <td>40.0</td>\n",
       "      <td>2237.0</td>\n",
       "      <td>1513.0</td>\n",
       "      <td>1028.0</td>\n",
       "    </tr>\n",
       "    <tr>\n",
       "      <th>std</th>\n",
       "      <td>45.0</td>\n",
       "      <td>2136.0</td>\n",
       "      <td>1817.0</td>\n",
       "      <td>1146.0</td>\n",
       "    </tr>\n",
       "    <tr>\n",
       "      <th>min</th>\n",
       "      <td>0.0</td>\n",
       "      <td>0.0</td>\n",
       "      <td>0.0</td>\n",
       "      <td>0.0</td>\n",
       "    </tr>\n",
       "    <tr>\n",
       "      <th>25%</th>\n",
       "      <td>0.0</td>\n",
       "      <td>177.0</td>\n",
       "      <td>110.0</td>\n",
       "      <td>158.0</td>\n",
       "    </tr>\n",
       "    <tr>\n",
       "      <th>50%</th>\n",
       "      <td>5.0</td>\n",
       "      <td>1036.0</td>\n",
       "      <td>324.0</td>\n",
       "      <td>676.0</td>\n",
       "    </tr>\n",
       "    <tr>\n",
       "      <th>75%</th>\n",
       "      <td>94.0</td>\n",
       "      <td>4286.0</td>\n",
       "      <td>4122.0</td>\n",
       "      <td>1548.0</td>\n",
       "    </tr>\n",
       "    <tr>\n",
       "      <th>max</th>\n",
       "      <td>97.0</td>\n",
       "      <td>5727.0</td>\n",
       "      <td>4670.0</td>\n",
       "      <td>4907.0</td>\n",
       "    </tr>\n",
       "  </tbody>\n",
       "</table>\n",
       "</div>"
      ],
      "text/plain": [
       "       Deaths   Cases  Recovered  Hospitalised\n",
       "count   632.0   632.0      632.0         632.0\n",
       "mean     40.0  2237.0     1513.0        1028.0\n",
       "std      45.0  2136.0     1817.0        1146.0\n",
       "min       0.0     0.0        0.0           0.0\n",
       "25%       0.0   177.0      110.0         158.0\n",
       "50%       5.0  1036.0      324.0         676.0\n",
       "75%      94.0  4286.0     4122.0        1548.0\n",
       "max      97.0  5727.0     4670.0        4907.0"
      ]
     },
     "execution_count": 50,
     "metadata": {},
     "output_type": "execute_result"
    }
   ],
   "source": [
    "gcov_df.describe(datetime_is_numeric=True).apply(lambda x: x.round(0))"
   ]
  },
  {
   "cell_type": "code",
   "execution_count": 123,
   "metadata": {},
   "outputs": [
    {
     "name": "stdout",
     "output_type": "stream",
     "text": [
      "start date: 2020-01-22 / End Date: 2021-10-14\n"
     ]
    }
   ],
   "source": [
    "print(\"start date: {} / End Date: {}\".format(gcov_df['Date'].min(),gcov_df['Date'].max()))\n"
   ]
  },
  {
   "cell_type": "code",
   "execution_count": 141,
   "metadata": {},
   "outputs": [
    {
     "data": {
      "text/plain": [
       "[Text(0.5, 0, 'Time')]"
      ]
     },
     "execution_count": 141,
     "metadata": {},
     "output_type": "execute_result"
    },
    {
     "data": {
      "image/png": "[encoded data removed]",
      "text/plain": [
       "<Figure size 921.6x691.2 with 1 Axes>"
      ]
     },
     "metadata": {},
     "output_type": "display_data"
    }
   ],
   "source": [
    "\n",
    "sns.set_theme(style=\"white\")\n",
    "ax =  sns.lineplot(data=gcov_df)\n",
    "ax.set(xticklabels=[])  \n",
    "ax.set(title='Data Over Time')\n",
    "ax.set(xlabel='Time')\n",
    "#ax.tick_params(bottom=False) \n"
   ]
  },
  {
   "cell_type": "markdown",
   "metadata": {},
   "source": [
    "#"
   ]
  },
  {
   "cell_type": "markdown",
   "metadata": {},
   "source": [
    "# Initial findings\n",
    "From the above chart we can extrapulate:\n",
    "- Our data set has the following dates - Start date: 2020-01-22 / End Date: 2021-10-14\n",
    "- There were disproportionate hospitalisations at the start of the data set\n",
    "- Hospitilisations don't mimic cases. We should look into this more\n",
    "- Deats are relatively low\n",
    "- Recvoered cases closley follow reported cases but suddenly fall off in a sharp drop. This should be looked into further"
   ]
  }
 ],
 "metadata": {
  "kernelspec": {
   "display_name": "Python 3.10.5 64-bit",
   "language": "python",
   "name": "python3"
  },
  "language_info": {
   "codemirror_mode": {
    "name": "ipython",
    "version": 3
   },
   "file_extension": ".py",
   "mimetype": "text/x-python",
   "name": "python",
   "nbconvert_exporter": "python",
   "pygments_lexer": "ipython3",
   "version": "3.10.5"
  },
  "orig_nbformat": 4,
  "vscode": {
   "interpreter": {
    "hash": "bc4cc8a40cf1eb9d6accc9a93820008d674443826575432a6e9eb50affcb6e96"
   }
  }
 },
 "nbformat": 4,
 "nbformat_minor": 2
}
